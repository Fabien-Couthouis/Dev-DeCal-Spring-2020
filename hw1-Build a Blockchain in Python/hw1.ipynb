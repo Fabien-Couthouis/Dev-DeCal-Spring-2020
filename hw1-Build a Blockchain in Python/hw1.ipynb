{
 "cells": [
  {
   "cell_type": "markdown",
   "metadata": {},
   "source": [
    "# Build a Blockchain! - Blockchain Design Exercises"
   ]
  },
  {
   "cell_type": "markdown",
   "metadata": {},
   "source": [
    "## HW1 - Build a Blockchain in Python\n",
    "\n",
    "#### Getting Started\n",
    "\n",
    "CS 198-077 Spring 2020 \n",
    "HW1-Build a Blockchain in Python\n",
    "\n",
    "Created by Omkar Shanbhag, Updated by Simon Guo\n",
    "\n",
    "This notebook is meant to be a short introduction to Blockchain implementations, aimed at helping us take the topics we learn about in fundamentals, and seeing how they translate to code. \n",
    "\n",
    "In this notebook we will implement various different aspects of Blockchain technology that we understand including: \n",
    "\n",
    "- The Blockchain Data Structure using OOP \n",
    "- A proof of work simulation \n",
    "- Understanding of the concept of difficulty of finding the next block hash \n",
    "- A simulation of multiple miners with varying computational powers \n",
    "- A bit of data analytics to see if what we've implemented makes sense "
   ]
  },
  {
   "cell_type": "code",
   "execution_count": 2,
   "metadata": {},
   "outputs": [],
   "source": [
    "#Import statements\n",
    "import hashlib as hasher \n",
    "import random as rand\n",
    "import time \n",
    "import datetime as date\n",
    "import ipyparallel as ipp\n",
    "import numpy as np\n",
    "import matplotlib.pyplot as plt"
   ]
  },
  {
   "cell_type": "markdown",
   "metadata": {},
   "source": [
    "# Blockchain Data Structure Design"
   ]
  },
  {
   "cell_type": "markdown",
   "metadata": {},
   "source": [
    "In this section we will define the class \"Block\" and create an init function that creates a new block given some parameters, as well as a function hash_block, that computes the hash of this block based on its class variables. \n",
    "\n",
    "The init function is implemented for you below and creates a block with the following specifications \n",
    "- Index --> the index of the block on the chain (zero indexed)\n",
    "- Timestamp --> time that the block was added on to the chain\n",
    "- data --> The data the block contains (Usually points to root of merkel tree, but we can fill it with whatever for this)\n",
    "- previous_hash --> The hash value of the previous block \n",
    "- hash --> hash of this block computed using the hash_block function\n",
    "- nonce --> the variable value that we change to alter the hash output (Default value = 0, irrelevant in this section)\n",
    "\n",
    "****QUESTION #1: Implement hash_block()****\n",
    "\n",
    "We need to implement the hash_block() which computes the hash value of this block based on how we initialize it. This function takes in no parameters. \n",
    "\n",
    "Desired Functionality:\n",
    "- Concatenate string representations of all the class variables \n",
    "- Computes the SHA256 hash of this concatenation \n",
    "\n",
    "-- HINTS --\n",
    "\n",
    "- use the first import statement!!! \n",
    "- initialize a new hasher\n",
    "- Look into the following words \n",
    "    - utf-8 encoding \n",
    "    - .update() function \n",
    "    - .hexdigest() function\n",
    "    - In order for the test function below to work properly, create the string concatenation in the following order with no spaces or any other characters in between \n",
    "       - index\n",
    "       - timestamp\n",
    "       - data\n",
    "       - previous block hash\n",
    "       - nonce\n",
    "     - If you want to do it another order that incorporates everything thats totally fine, but test function wont work!"
   ]
  },
  {
   "cell_type": "markdown",
   "metadata": {},
   "source": []
  },
  {
   "cell_type": "code",
   "execution_count": 39,
   "metadata": {},
   "outputs": [],
   "source": [
    "class Block:\n",
    "    def __init__(self, index, timestamp, data, previous_hash, nonce=0):\n",
    "        self.index = index\n",
    "        self.timestamp = timestamp\n",
    "        self.data = data\n",
    "        self.nonce = nonce #set to zero as default not applicable in first section \n",
    "        self.previous_hash = previous_hash\n",
    "        self.hash = self.hash_block()\n",
    "\n",
    "    def hash_block(self):\n",
    "        concat_data = \"\"\n",
    "        concat_data += str(self.index)\n",
    "        concat_data += str(self.timestamp)\n",
    "        concat_data += str(self.data)\n",
    "        concat_data += str(self.previous_hash)\n",
    "        concat_data += str(self.nonce)\n",
    "        \n",
    "        # Encode to utf-8\n",
    "        concat_data = concat_data.encode('utf-8')\n",
    "        \n",
    "        # Hash\n",
    "        hb = hasher.sha256(concat_data)\n",
    "        return hb.hexdigest()"
   ]
  },
  {
   "cell_type": "markdown",
   "metadata": {},
   "source": [
    "**TEST YOUR QUESTION 1 CODE HERE**\n",
    "\n",
    "Run the block of code below"
   ]
  },
  {
   "cell_type": "code",
   "execution_count": 40,
   "metadata": {},
   "outputs": [
    {
     "name": "stdout",
     "output_type": "stream",
     "text": [
      "2def27922fc1c67254a9cdb0c660b91abf9b135ad38fc13c7c77007448b824a0\n",
      "PASSED!!! Move on to next Question\n"
     ]
    }
   ],
   "source": [
    "def test_question_1(index, time, data, previous_hash):\n",
    "    new_block = Block(index, time, data, previous_hash)\n",
    "    print(new_block.hash)\n",
    "    check_string = '2def27922fc1c67254a9cdb0c660b91abf9b135ad38fc13c7c77007448b824a0'\n",
    "    print_statement = \"PASSED!!! Move on to next Question\" if str(new_block.hash) == check_string else \"FAILED!!! Try Again\"\n",
    "    print(print_statement)\n",
    "    \n",
    "time = '2019-10-17 00:37:35.256774'\n",
    "data = 'Machine Learning Blockchain AI'\n",
    "previous_hash = '6ffd1464f68ef4aeb385d399244efa19293ba5c842c464a82c02f8256ef71428'\n",
    "index = 0\n",
    "    \n",
    "test_question_1(index, time, data, previous_hash)"
   ]
  },
  {
   "cell_type": "markdown",
   "metadata": {},
   "source": [
    "**Functions for Building the Chain**\n",
    "\n",
    "Now that we have our class Block completed, lets figure out how to make a chain out of them. For a chain, we need to first have a function that creates a genesis block, which serves as the first block of our chain, and then create the function next_block() which builds a new block on top of a given block.\n",
    "\n",
    "create_genesis_block() has been implemented for you. It creates a block with the following specifications. \n",
    "- index = 0\n",
    "- timestamp = Now (whenever the function is being called) \n",
    "- data = \"Genesis Block\"\n",
    "- previous_hash = \"0\"\n",
    "\n",
    "**QUESTION #2: Implement next_block()**\n",
    "\n",
    "We need to implement the function next_block() which takes in 1 parameter:\n",
    "- Last_block = an instance of class Block that is the block that we're building our next block on top of \n",
    "- nonce = Dont do anything with this right now - just pass it in to the Block that you create using the default \n",
    "\n",
    "We want to implement the function so that it returns a new instance of the class Block with the following specifications\n",
    "- index = index of last_block + 1\n",
    "- timestamp = Now (whenever the function is being called)\n",
    "- data = \"Hey! I'm block {index}\"  (for example block w/ index 5 would have data: \"Hey! I'm block 5\")\n",
    "- previous_hash = hash of last_block"
   ]
  },
  {
   "cell_type": "code",
   "execution_count": 52,
   "metadata": {},
   "outputs": [],
   "source": [
    "#Creates the first block with current time and generic data\n",
    "def create_genesis_block():\n",
    "    # Manually construct a block with\n",
    "    # index zero and arbitrary previous hash\n",
    "    return Block(0, date.datetime.now(), \"Genesis Block\", \"0\")\n",
    "\n",
    "#Function that creates the next block, given the last block on the chain you want to mine on\n",
    "def next_block(last_block, nonce=0):\n",
    "    #Your code for QUESTION 2 here\n",
    "    next_id = last_block.index + 1\n",
    "    next_block = Block(next_id, date.datetime.now(), f\"Hey! I'm block {next_id}\",last_block.hash, \"0\")\n",
    "    return next_block\n",
    "    "
   ]
  },
  {
   "cell_type": "markdown",
   "metadata": {},
   "source": [
    "**TEST YOUR QUESTION 2 CODE HERE**\n",
    "\n",
    "Run the block of code below"
   ]
  },
  {
   "cell_type": "code",
   "execution_count": 53,
   "metadata": {},
   "outputs": [
    {
     "name": "stdout",
     "output_type": "stream",
     "text": [
      "PASSED!!! Move on to next part\n"
     ]
    }
   ],
   "source": [
    "def test_question_2(genesis_block):\n",
    "    block_1 = next_block(genesis_block)\n",
    "    if block_1.index == 1 and block_1.data == \"Hey! I'm block 1\" and block_1.previous_hash == genesis_block.hash and str(type(block_1.timestamp)) == \"<class 'datetime.datetime'>\":\n",
    "        print(\"PASSED!!! Move on to next part\" )\n",
    "    else:\n",
    "        print(\"FAILED!!! Try again :(\")\n",
    "    \n",
    "\n",
    "genesis_block = create_genesis_block()\n",
    "test_question_2(genesis_block)"
   ]
  },
  {
   "cell_type": "markdown",
   "metadata": {},
   "source": [
    "**Spinning up a Chain**\n",
    "\n",
    "Now that we've created the data structure as well as the functions needed to create the chain, lets see how spinning up an actual instance of this would work. \n",
    "\n",
    "Below we initialize three different variables \n",
    "- blockchain - this is a python list which we initialize with one block inside (the genesis block) \n",
    "- previous_block - this points to our genesis block (since it references the first element in blockchain)\n",
    "- num_blocks - this specifies the number of additional blocks we want to add to our chain \n",
    "\n",
    "**QUESTION 3 complete_chain()**\n",
    "\n",
    "We want to complete the implementation of the function complete_chain(). This function takes in three inputs, which correspond to the initializations that we made. It returns nothing, however by the time we are done running it, the list 'blockchain' that we initialized earlier has been turned into an array of length num_blocks + 1 in which each element is an instance of class Block and each element's self.previous_hash == the previous element's self.hash. Therefore we have created our own mini blockchain!! \n",
    "\n",
    "The for loop and the print statements of complete_chain have been implemented for you, you need to add the statements that ***create a new block on top of previous_block, add it to the block chain, and edit previous block so that the for loop can continue correctly*** \n",
    "\n",
    "****HINT **** --> Literally just do all the things listed in the section immediately above in order \n",
    "\n",
    "If it works out, you should get the same number of print statements as num_blocks"
   ]
  },
  {
   "cell_type": "code",
   "execution_count": 62,
   "metadata": {},
   "outputs": [
    {
     "name": "stdout",
     "output_type": "stream",
     "text": [
      "Block #1 has been added to the blockchain!\n",
      "Hash: 754c0a4b923715aa02ac1c2f63afab81cd68639442a0164402c534eebcdc3423\n",
      "\n",
      "Block #2 has been added to the blockchain!\n",
      "Hash: 6ba1b0b395732d79b196d3e049fef4d01712b5c6c1ac1b7dd64c71a19b87d7a6\n",
      "\n",
      "Block #3 has been added to the blockchain!\n",
      "Hash: f5a9ab5c391bcc2518d3ef05aeb6c55abd466199fb098bf1d3ef63d2ff4eb423\n",
      "\n",
      "Block #4 has been added to the blockchain!\n",
      "Hash: 3b13ae643c686b3de4befe4de39e09d304252e0c16262fe3e25b152c642b71b4\n",
      "\n",
      "Block #5 has been added to the blockchain!\n",
      "Hash: 167c42cbbfb396585cae3c063014b050052c8b0324ba4ad57647b892fdc746b4\n",
      "\n",
      "Block #6 has been added to the blockchain!\n",
      "Hash: 923acbdf8785b004054ed6d5171589e71dce7b5a5ed13db064ba838ded821cfc\n",
      "\n",
      "Block #7 has been added to the blockchain!\n",
      "Hash: 9b02a31c73a23814cc6da478fd9e7a6e0d598b5e3c9b10a8faf1170633d21002\n",
      "\n",
      "Block #8 has been added to the blockchain!\n",
      "Hash: 89370d4b376c48ccbc14d95759d68bf021bc52b8de197a49833012921f4f0a19\n",
      "\n",
      "Block #9 has been added to the blockchain!\n",
      "Hash: afefcb280413715080f51214b9e9d49f08ae36f91ddf06aea142c52c3b68509d\n",
      "\n",
      "Block #10 has been added to the blockchain!\n",
      "Hash: e50717c404f80afa38f1c1d10303184785d289928316a9a010795143606d3bca\n",
      "\n",
      "Block #11 has been added to the blockchain!\n",
      "Hash: 5735d55709c4c17a94934b1ce3be40af9f23d61e0d7f64fa41faf42765958c07\n",
      "\n",
      "Block #12 has been added to the blockchain!\n",
      "Hash: ed16d01b27e65e46adc8bde1bd4a356bcaeff58ace07720e13cc2825fc11d3a6\n",
      "\n",
      "Block #13 has been added to the blockchain!\n",
      "Hash: 614f5d4c6924dff36a5ce5143b240462dce17396c56fd2841d99b0eaf3626e6f\n",
      "\n",
      "Block #14 has been added to the blockchain!\n",
      "Hash: a92630d1ac00db823d50096fe30afa860d4216543bdfb4c556ce76f0edf54bf4\n",
      "\n",
      "Block #15 has been added to the blockchain!\n",
      "Hash: 1866550496a72eeee063bdf84b27d061fbdede4a7695387492b836f1769c6b2e\n",
      "\n",
      "Block #16 has been added to the blockchain!\n",
      "Hash: cea7e98fad6e85287e37f48d6aa4fc2902650420e064e6ba64cb34caa1a229c2\n",
      "\n",
      "Block #17 has been added to the blockchain!\n",
      "Hash: 542cb3cb36ca15de0853a9ca7dabb552adfa71cb57bae3d050eaaf269ae90677\n",
      "\n",
      "Block #18 has been added to the blockchain!\n",
      "Hash: 7b38f1f1f2ef5de1b15c0186dbc82ef73a61d26835b00c2dc98abdd75b3ff042\n",
      "\n",
      "Block #19 has been added to the blockchain!\n",
      "Hash: 6afd6a2dcfd3701479fa3f7e3cca0d85956f6c42c39b4f81d869cbba3b29855f\n",
      "\n",
      "Block #20 has been added to the blockchain!\n",
      "Hash: 58e930776521efe156d5fd7c9420f2a921beebe2502c9154fa7fdb898f51b2db\n",
      "\n"
     ]
    }
   ],
   "source": [
    "# Create the blockchain and add the genesis block\n",
    "blockchain = [create_genesis_block()]\n",
    "\n",
    "#Create our initial reference to previous block which points to the genesis block\n",
    "previous_block = blockchain[0]\n",
    "\n",
    "# How many blocks should we add to the chain after the genesis block\n",
    "num_blocks = 20\n",
    "\n",
    "def complete_chain(num_blocks, blockchain, previous_block):\n",
    "    # Add blocks to the chain\n",
    "    for i in range(0, num_blocks):\n",
    "        #Your code for QUESTION 3 Here \n",
    "        block_to_add = next_block(previous_block)\n",
    "        \n",
    "        #Your code for QUESTION 3 ends Here\n",
    "        # Tell everyone about it!\n",
    "        print(\"Block #{} has been added to the blockchain!\".format(block_to_add.index))\n",
    "        print(\"Hash: {}\\n\".format(block_to_add.hash))\n",
    "        blockchain.append(block_to_add)\n",
    "        previous_block = block_to_add\n",
    "\n",
    "complete_chain(num_blocks, blockchain, previous_block)"
   ]
  },
  {
   "cell_type": "markdown",
   "metadata": {},
   "source": [
    "**TEST YOUR QUESTION 3 CODE HERE**\n",
    "\n",
    "Run the block of code below"
   ]
  },
  {
   "cell_type": "code",
   "execution_count": 63,
   "metadata": {},
   "outputs": [
    {
     "name": "stdout",
     "output_type": "stream",
     "text": [
      "PASSED!!! Move on to the next Part\n"
     ]
    }
   ],
   "source": [
    "def test_question_3(blockchain, num_blocks):\n",
    "    correct = True\n",
    "    if len(blockchain) != num_blocks + 1:\n",
    "        correct = False\n",
    "    for i in range(len(blockchain)-1):\n",
    "        if blockchain[i + 1].previous_hash != blockchain[i].hash:\n",
    "            correct = False\n",
    "            break\n",
    "    print_statement = \"PASSED!!! Move on to the next Part\" if correct else \"FAILED!!! Try Again :(\"\n",
    "    print(print_statement)\n",
    "\n",
    "test_question_3(blockchain, num_blocks)"
   ]
  },
  {
   "cell_type": "markdown",
   "metadata": {},
   "source": [
    "# Proof of Work Simulation"
   ]
  },
  {
   "cell_type": "markdown",
   "metadata": {},
   "source": [
    "In this section we will be doing a simulation of the proof-of-work consensus mechanism that the Bitcoin Blockchain (among others) uses. Let us define some of the concepts that we will be dealing with in this section. \n",
    "\n",
    "**The Nonce** --> Randomly generated value that we add to our concatenation of our block to add variance to our hashes\n",
    "\n",
    "**Difficulty** --> Specified by the network (in theory, here it is specified by us). Defines the number of hashes that are valid out of all possible values. Higher difficulty indicates a lower number of valid hashes. \n",
    "\n",
    "**QUESTION 4: generate_nonce(), generate_difficulty_bound(), find_next_block()**\n",
    "\n",
    "**Part 1 - Description** \n",
    "\n",
    "The functions **generate_nonce()** and **generate_difficulty_bound()** have been implemented below for you. The first part of this question involves reading through, them understanding them completely, and writing a quick 1 - 2 line summary of what they are supposed to do and how they are implemented (write it in the space given, 2 cells below).\n",
    "\n",
    "**Part 2 - Implementation**\n",
    "\n",
    "The second part of this question is to complete the implementation of find_next_block(). This function's purpose is to try different blocks with the same data, index etc. but different nonces that satisfy the difficulty metric specified. The difficulty bound has already been generated for you and the first block has been created. You have to complete the implementation so that: \n",
    "- You find a nonce such that the hash of the block is less than the difficulty bound. \n",
    "- All data from new block has to be the same (including the timestamp, for simplicity purposes) and the only thing changing is the nonce \n",
    "- For our learning purposes, increment the hashes_tried parameter appropriately everytime you try a hash so that we can see the number of hashes tried and how this correlates to our difficulty value. \n",
    "\n",
    "**HINTS**\n",
    "- How do you turn a hash string into its hex prepresentation that you can compare???\n",
    "- if your implementation is working, you should notice something interesting about all the hashes of the blocks that you are getting when you run the code cell labeled \"Create Proof of work Blockchain\"**\n",
    "\n",
    "\n",
    "\n",
    "**you can test question 4 in the a few cells below this one, after running all the cells in between**"
   ]
  },
  {
   "cell_type": "code",
   "execution_count": 106,
   "metadata": {},
   "outputs": [],
   "source": [
    "import time\n",
    "\n",
    "def generate_nonce(length=20):\n",
    "    'Generate a list of string of size equal to the length parameter composed of random digits (from 0 to 9)'\n",
    "    return ''.join([str(rand.randint(0, 9)) for i in range(length)])\n",
    "\n",
    "def generate_difficulty_bound(difficulty=1):\n",
    "    'Generate an int representing the number of hashes that are possible for the specified difficulty'\n",
    "    diff_str = \"\"\n",
    "    for i in range(difficulty):\n",
    "        diff_str += '0'\n",
    "    for i in range(64 - difficulty):\n",
    "        diff_str += 'F'\n",
    "    diff_str = \"0x\" + diff_str  # \"0x\" needs to be added at the front to specify that it is a hex representation\n",
    "    return(int(diff_str, 16))  # Specifies that we want to create an integer of base 16 (as opposed to the default base 10)\n",
    "\n",
    "    \n",
    "def find_next_block(last_block, difficulty, nonce_length):\n",
    "    'Given a previous block and a difficulty metric, finds a nonce that results in a lower hash value'\n",
    "    difficulty_bound = generate_difficulty_bound(difficulty)\n",
    "    start = time.process_time() \n",
    "    nonce = generate_nonce(nonce_length)\n",
    "\n",
    "    new_block = next_block(last_block, nonce)\n",
    "    hashes_tried = 1\n",
    "    #Your code for QUESTION 4 Starts here \n",
    "    while int(new_block.hash,16) > difficulty_bound:\n",
    "        nonce = generate_nonce(nonce_length)\n",
    "        new_block = next_block(last_block, nonce)\n",
    "        hashes_tried += 1\n",
    "\n",
    "    #Your code for QUESTION 4 Ends here \n",
    "    time_taken = time.process_time() - start\n",
    "    return(time_taken, hashes_tried, new_block)"
   ]
  },
  {
   "cell_type": "markdown",
   "metadata": {},
   "source": [
    "**QUESTION 4 Description Section**\n",
    "\n",
    "Describe the following functions: \n",
    "\n",
    "- generate_nonce():         Generate a list of string of size equal to the length parameter composed of random digits (from 0 to 9)\n",
    "\n",
    "- generate_difficulty_bound():      Generate an int representing the number of hashes that are possible for the specified difficulty"
   ]
  },
  {
   "cell_type": "markdown",
   "metadata": {},
   "source": [
    "The cell below creates our proof of work blockchain in a similar way that we do in the earlier section. \n",
    "\n",
    "Some initializations:\n",
    "- blockchain_pow: Our new python list that signifies our proof of work blockchain, with the genesis block inside\n",
    "- previous_block: The first block to use as previous block to build upon\n",
    "- num_blocks: number of additional blocks to add to teh chain\n",
    "- difficulty: difficulty of the network \n",
    "- nonce_length: length of the randomly generated nonce"
   ]
  },
  {
   "cell_type": "markdown",
   "metadata": {},
   "source": [
    "### Create Proof of Work Blockchain "
   ]
  },
  {
   "cell_type": "code",
   "execution_count": 120,
   "metadata": {},
   "outputs": [
    {
     "name": "stdout",
     "output_type": "stream",
     "text": [
      "Block #1 has been added to the blockchain!\n",
      "459 Hashes Tried!\n",
      "Time taken to find block: 5.859375\n",
      "Hash: 007851d0e38feccb9e67e9375278130063e65edf2d81b85e42c32d292de4ca57\n",
      "\n",
      "Block #2 has been added to the blockchain!\n",
      "329 Hashes Tried!\n",
      "Time taken to find block: 4.65625\n",
      "Hash: 0084898779f4b60c7480cc4955b39258616d7aeb88b257969acbedb96455059d\n",
      "\n"
     ]
    },
    {
     "ename": "KeyboardInterrupt",
     "evalue": "",
     "output_type": "error",
     "traceback": [
      "\u001b[1;31m---------------------------------------------------------------------------\u001b[0m",
      "\u001b[1;31mKeyboardInterrupt\u001b[0m                         Traceback (most recent call last)",
      "\u001b[1;32m<ipython-input-120-337506f4446b>\u001b[0m in \u001b[0;36m<module>\u001b[1;34m\u001b[0m\n\u001b[0;32m     32\u001b[0m     \u001b[1;32mreturn\u001b[0m\u001b[1;33m(\u001b[0m\u001b[0mhash_array\u001b[0m\u001b[1;33m,\u001b[0m \u001b[0mtime_array\u001b[0m\u001b[1;33m)\u001b[0m\u001b[1;33m\u001b[0m\u001b[1;33m\u001b[0m\u001b[0m\n\u001b[0;32m     33\u001b[0m \u001b[1;33m\u001b[0m\u001b[0m\n\u001b[1;32m---> 34\u001b[1;33m \u001b[0mhash_array\u001b[0m\u001b[1;33m,\u001b[0m \u001b[0mtime_array\u001b[0m \u001b[1;33m=\u001b[0m \u001b[0mcreate_pow_blockchain\u001b[0m\u001b[1;33m(\u001b[0m\u001b[0mnum_blocks\u001b[0m\u001b[1;33m,\u001b[0m \u001b[0mdifficulty\u001b[0m\u001b[1;33m,\u001b[0m \u001b[0mblockchain_pow\u001b[0m\u001b[1;33m,\u001b[0m \u001b[0mprevious_block\u001b[0m\u001b[1;33m,\u001b[0m \u001b[0mnonce_length\u001b[0m\u001b[1;33m)\u001b[0m\u001b[1;33m\u001b[0m\u001b[1;33m\u001b[0m\u001b[0m\n\u001b[0m",
      "\u001b[1;32m<ipython-input-120-337506f4446b>\u001b[0m in \u001b[0;36mcreate_pow_blockchain\u001b[1;34m(num_blocks, difficulty, blockchain_pow, previous_block, nonce_length, print_data)\u001b[0m\n\u001b[0;32m     19\u001b[0m     \u001b[0mtime_array\u001b[0m \u001b[1;33m=\u001b[0m \u001b[1;33m[\u001b[0m\u001b[1;33m]\u001b[0m\u001b[1;33m\u001b[0m\u001b[1;33m\u001b[0m\u001b[0m\n\u001b[0;32m     20\u001b[0m     \u001b[1;32mfor\u001b[0m \u001b[0mi\u001b[0m \u001b[1;32min\u001b[0m \u001b[0mrange\u001b[0m\u001b[1;33m(\u001b[0m\u001b[1;36m0\u001b[0m\u001b[1;33m,\u001b[0m \u001b[0mnum_blocks\u001b[0m\u001b[1;33m)\u001b[0m\u001b[1;33m:\u001b[0m\u001b[1;33m\u001b[0m\u001b[1;33m\u001b[0m\u001b[0m\n\u001b[1;32m---> 21\u001b[1;33m         \u001b[0mtime_taken\u001b[0m\u001b[1;33m,\u001b[0m \u001b[0mhashes_tried\u001b[0m\u001b[1;33m,\u001b[0m \u001b[0mblock_to_add\u001b[0m \u001b[1;33m=\u001b[0m \u001b[0mfind_next_block\u001b[0m\u001b[1;33m(\u001b[0m\u001b[0mprevious_block\u001b[0m\u001b[1;33m,\u001b[0m \u001b[0mdifficulty\u001b[0m\u001b[1;33m,\u001b[0m \u001b[0mnonce_length\u001b[0m\u001b[1;33m)\u001b[0m\u001b[1;33m\u001b[0m\u001b[1;33m\u001b[0m\u001b[0m\n\u001b[0m\u001b[0;32m     22\u001b[0m         \u001b[0mblockchain_pow\u001b[0m\u001b[1;33m.\u001b[0m\u001b[0mappend\u001b[0m\u001b[1;33m(\u001b[0m\u001b[0mblock_to_add\u001b[0m\u001b[1;33m)\u001b[0m\u001b[1;33m\u001b[0m\u001b[1;33m\u001b[0m\u001b[0m\n\u001b[0;32m     23\u001b[0m         \u001b[0mprevious_block\u001b[0m \u001b[1;33m=\u001b[0m \u001b[0mblock_to_add\u001b[0m\u001b[1;33m\u001b[0m\u001b[1;33m\u001b[0m\u001b[0m\n",
      "\u001b[1;32m<ipython-input-106-dc7ff7afaa3d>\u001b[0m in \u001b[0;36mfind_next_block\u001b[1;34m(last_block, difficulty, nonce_length)\u001b[0m\n\u001b[0;32m     26\u001b[0m     \u001b[1;31m#Your code for QUESTION 4 Starts here\u001b[0m\u001b[1;33m\u001b[0m\u001b[1;33m\u001b[0m\u001b[1;33m\u001b[0m\u001b[0m\n\u001b[0;32m     27\u001b[0m     \u001b[1;32mwhile\u001b[0m \u001b[0mint\u001b[0m\u001b[1;33m(\u001b[0m\u001b[0mnew_block\u001b[0m\u001b[1;33m.\u001b[0m\u001b[0mhash\u001b[0m\u001b[1;33m,\u001b[0m\u001b[1;36m16\u001b[0m\u001b[1;33m)\u001b[0m \u001b[1;33m>\u001b[0m \u001b[0mdifficulty_bound\u001b[0m\u001b[1;33m:\u001b[0m\u001b[1;33m\u001b[0m\u001b[1;33m\u001b[0m\u001b[0m\n\u001b[1;32m---> 28\u001b[1;33m         \u001b[0mnonce\u001b[0m \u001b[1;33m=\u001b[0m \u001b[0mgenerate_nonce\u001b[0m\u001b[1;33m(\u001b[0m\u001b[0mnonce_length\u001b[0m\u001b[1;33m)\u001b[0m\u001b[1;33m\u001b[0m\u001b[1;33m\u001b[0m\u001b[0m\n\u001b[0m\u001b[0;32m     29\u001b[0m         \u001b[0mnew_block\u001b[0m \u001b[1;33m=\u001b[0m \u001b[0mnext_block\u001b[0m\u001b[1;33m(\u001b[0m\u001b[0mlast_block\u001b[0m\u001b[1;33m,\u001b[0m \u001b[0mnonce\u001b[0m\u001b[1;33m)\u001b[0m\u001b[1;33m\u001b[0m\u001b[1;33m\u001b[0m\u001b[0m\n\u001b[0;32m     30\u001b[0m         \u001b[0mhashes_tried\u001b[0m \u001b[1;33m+=\u001b[0m \u001b[1;36m1\u001b[0m\u001b[1;33m\u001b[0m\u001b[1;33m\u001b[0m\u001b[0m\n",
      "\u001b[1;32m<ipython-input-106-dc7ff7afaa3d>\u001b[0m in \u001b[0;36mgenerate_nonce\u001b[1;34m(length)\u001b[0m\n\u001b[0;32m      3\u001b[0m \u001b[1;32mdef\u001b[0m \u001b[0mgenerate_nonce\u001b[0m\u001b[1;33m(\u001b[0m\u001b[0mlength\u001b[0m\u001b[1;33m=\u001b[0m\u001b[1;36m20\u001b[0m\u001b[1;33m)\u001b[0m\u001b[1;33m:\u001b[0m\u001b[1;33m\u001b[0m\u001b[1;33m\u001b[0m\u001b[0m\n\u001b[0;32m      4\u001b[0m     \u001b[1;34m'Generate a list of string of size equal to the length parameter composed of random digits (from 0 to 9)'\u001b[0m\u001b[1;33m\u001b[0m\u001b[1;33m\u001b[0m\u001b[0m\n\u001b[1;32m----> 5\u001b[1;33m     \u001b[1;32mreturn\u001b[0m \u001b[1;34m''\u001b[0m\u001b[1;33m.\u001b[0m\u001b[0mjoin\u001b[0m\u001b[1;33m(\u001b[0m\u001b[1;33m[\u001b[0m\u001b[0mstr\u001b[0m\u001b[1;33m(\u001b[0m\u001b[0mrand\u001b[0m\u001b[1;33m.\u001b[0m\u001b[0mrandint\u001b[0m\u001b[1;33m(\u001b[0m\u001b[1;36m0\u001b[0m\u001b[1;33m,\u001b[0m \u001b[1;36m9\u001b[0m\u001b[1;33m)\u001b[0m\u001b[1;33m)\u001b[0m \u001b[1;32mfor\u001b[0m \u001b[0mi\u001b[0m \u001b[1;32min\u001b[0m \u001b[0mrange\u001b[0m\u001b[1;33m(\u001b[0m\u001b[0mlength\u001b[0m\u001b[1;33m)\u001b[0m\u001b[1;33m]\u001b[0m\u001b[1;33m)\u001b[0m\u001b[1;33m\u001b[0m\u001b[1;33m\u001b[0m\u001b[0m\n\u001b[0m\u001b[0;32m      6\u001b[0m \u001b[1;33m\u001b[0m\u001b[0m\n\u001b[0;32m      7\u001b[0m \u001b[1;32mdef\u001b[0m \u001b[0mgenerate_difficulty_bound\u001b[0m\u001b[1;33m(\u001b[0m\u001b[0mdifficulty\u001b[0m\u001b[1;33m=\u001b[0m\u001b[1;36m1\u001b[0m\u001b[1;33m)\u001b[0m\u001b[1;33m:\u001b[0m\u001b[1;33m\u001b[0m\u001b[1;33m\u001b[0m\u001b[0m\n",
      "\u001b[1;32m<ipython-input-106-dc7ff7afaa3d>\u001b[0m in \u001b[0;36m<listcomp>\u001b[1;34m(.0)\u001b[0m\n\u001b[0;32m      3\u001b[0m \u001b[1;32mdef\u001b[0m \u001b[0mgenerate_nonce\u001b[0m\u001b[1;33m(\u001b[0m\u001b[0mlength\u001b[0m\u001b[1;33m=\u001b[0m\u001b[1;36m20\u001b[0m\u001b[1;33m)\u001b[0m\u001b[1;33m:\u001b[0m\u001b[1;33m\u001b[0m\u001b[1;33m\u001b[0m\u001b[0m\n\u001b[0;32m      4\u001b[0m     \u001b[1;34m'Generate a list of string of size equal to the length parameter composed of random digits (from 0 to 9)'\u001b[0m\u001b[1;33m\u001b[0m\u001b[1;33m\u001b[0m\u001b[0m\n\u001b[1;32m----> 5\u001b[1;33m     \u001b[1;32mreturn\u001b[0m \u001b[1;34m''\u001b[0m\u001b[1;33m.\u001b[0m\u001b[0mjoin\u001b[0m\u001b[1;33m(\u001b[0m\u001b[1;33m[\u001b[0m\u001b[0mstr\u001b[0m\u001b[1;33m(\u001b[0m\u001b[0mrand\u001b[0m\u001b[1;33m.\u001b[0m\u001b[0mrandint\u001b[0m\u001b[1;33m(\u001b[0m\u001b[1;36m0\u001b[0m\u001b[1;33m,\u001b[0m \u001b[1;36m9\u001b[0m\u001b[1;33m)\u001b[0m\u001b[1;33m)\u001b[0m \u001b[1;32mfor\u001b[0m \u001b[0mi\u001b[0m \u001b[1;32min\u001b[0m \u001b[0mrange\u001b[0m\u001b[1;33m(\u001b[0m\u001b[0mlength\u001b[0m\u001b[1;33m)\u001b[0m\u001b[1;33m]\u001b[0m\u001b[1;33m)\u001b[0m\u001b[1;33m\u001b[0m\u001b[1;33m\u001b[0m\u001b[0m\n\u001b[0m\u001b[0;32m      6\u001b[0m \u001b[1;33m\u001b[0m\u001b[0m\n\u001b[0;32m      7\u001b[0m \u001b[1;32mdef\u001b[0m \u001b[0mgenerate_difficulty_bound\u001b[0m\u001b[1;33m(\u001b[0m\u001b[0mdifficulty\u001b[0m\u001b[1;33m=\u001b[0m\u001b[1;36m1\u001b[0m\u001b[1;33m)\u001b[0m\u001b[1;33m:\u001b[0m\u001b[1;33m\u001b[0m\u001b[1;33m\u001b[0m\u001b[0m\n",
      "\u001b[1;32md:\\programdata\\miniconda3\\lib\\random.py\u001b[0m in \u001b[0;36mrandint\u001b[1;34m(self, a, b)\u001b[0m\n\u001b[0;32m    220\u001b[0m         \"\"\"\n\u001b[0;32m    221\u001b[0m \u001b[1;33m\u001b[0m\u001b[0m\n\u001b[1;32m--> 222\u001b[1;33m         \u001b[1;32mreturn\u001b[0m \u001b[0mself\u001b[0m\u001b[1;33m.\u001b[0m\u001b[0mrandrange\u001b[0m\u001b[1;33m(\u001b[0m\u001b[0ma\u001b[0m\u001b[1;33m,\u001b[0m \u001b[0mb\u001b[0m\u001b[1;33m+\u001b[0m\u001b[1;36m1\u001b[0m\u001b[1;33m)\u001b[0m\u001b[1;33m\u001b[0m\u001b[1;33m\u001b[0m\u001b[0m\n\u001b[0m\u001b[0;32m    223\u001b[0m \u001b[1;33m\u001b[0m\u001b[0m\n\u001b[0;32m    224\u001b[0m     def _randbelow(self, n, int=int, maxsize=1<<BPF, type=type,\n",
      "\u001b[1;32md:\\programdata\\miniconda3\\lib\\random.py\u001b[0m in \u001b[0;36mrandrange\u001b[1;34m(self, start, stop, step, _int)\u001b[0m\n\u001b[0;32m    196\u001b[0m         \u001b[0mwidth\u001b[0m \u001b[1;33m=\u001b[0m \u001b[0mistop\u001b[0m \u001b[1;33m-\u001b[0m \u001b[0mistart\u001b[0m\u001b[1;33m\u001b[0m\u001b[1;33m\u001b[0m\u001b[0m\n\u001b[0;32m    197\u001b[0m         \u001b[1;32mif\u001b[0m \u001b[0mstep\u001b[0m \u001b[1;33m==\u001b[0m \u001b[1;36m1\u001b[0m \u001b[1;32mand\u001b[0m \u001b[0mwidth\u001b[0m \u001b[1;33m>\u001b[0m \u001b[1;36m0\u001b[0m\u001b[1;33m:\u001b[0m\u001b[1;33m\u001b[0m\u001b[1;33m\u001b[0m\u001b[0m\n\u001b[1;32m--> 198\u001b[1;33m             \u001b[1;32mreturn\u001b[0m \u001b[0mistart\u001b[0m \u001b[1;33m+\u001b[0m \u001b[0mself\u001b[0m\u001b[1;33m.\u001b[0m\u001b[0m_randbelow\u001b[0m\u001b[1;33m(\u001b[0m\u001b[0mwidth\u001b[0m\u001b[1;33m)\u001b[0m\u001b[1;33m\u001b[0m\u001b[1;33m\u001b[0m\u001b[0m\n\u001b[0m\u001b[0;32m    199\u001b[0m         \u001b[1;32mif\u001b[0m \u001b[0mstep\u001b[0m \u001b[1;33m==\u001b[0m \u001b[1;36m1\u001b[0m\u001b[1;33m:\u001b[0m\u001b[1;33m\u001b[0m\u001b[1;33m\u001b[0m\u001b[0m\n\u001b[0;32m    200\u001b[0m             \u001b[1;32mraise\u001b[0m \u001b[0mValueError\u001b[0m\u001b[1;33m(\u001b[0m\u001b[1;34m\"empty range for randrange() (%d,%d, %d)\"\u001b[0m \u001b[1;33m%\u001b[0m \u001b[1;33m(\u001b[0m\u001b[0mistart\u001b[0m\u001b[1;33m,\u001b[0m \u001b[0mistop\u001b[0m\u001b[1;33m,\u001b[0m \u001b[0mwidth\u001b[0m\u001b[1;33m)\u001b[0m\u001b[1;33m)\u001b[0m\u001b[1;33m\u001b[0m\u001b[1;33m\u001b[0m\u001b[0m\n",
      "\u001b[1;31mKeyboardInterrupt\u001b[0m: "
     ]
    }
   ],
   "source": [
    "# Create the blockchain and add the genesis block\n",
    "blockchain_pow = [create_genesis_block()]\n",
    "\n",
    "#Create our initial reference to previous block which points to the genesis block\n",
    "previous_block = blockchain_pow[0]\n",
    "\n",
    "# How many blocks should we add to the chain after genesis block\n",
    "num_blocks = 20\n",
    "\n",
    "#magnitude of difficulty of hash - number of zeroes that must be in the beginning of the hash\n",
    "difficulty = 2\n",
    "\n",
    "#length of nonce that will be generated and added\n",
    "nonce_length = 8000\n",
    "\n",
    "# Add blocks to the chain based on difficulty with nonces of length nonce_length\n",
    "def create_pow_blockchain(num_blocks, difficulty, blockchain_pow, previous_block, nonce_length, print_data=1):\n",
    "    hash_array = []\n",
    "    time_array = []\n",
    "    for i in range(0, num_blocks):\n",
    "        time_taken, hashes_tried, block_to_add = find_next_block(previous_block, difficulty, nonce_length)\n",
    "        blockchain_pow.append(block_to_add)\n",
    "        previous_block = block_to_add\n",
    "        hash_array.append(hashes_tried)\n",
    "        time_array.append(time_taken)\n",
    "        # Tell everyone about it!\n",
    "        if print_data:\n",
    "            print(\"Block #{} has been added to the blockchain!\".format(block_to_add.index))\n",
    "            print(\"{} Hashes Tried!\".format(hashes_tried))\n",
    "            print(\"Time taken to find block: {}\".format(time_taken))\n",
    "            print(\"Hash: {}\\n\".format(block_to_add.hash))\n",
    "    return(hash_array, time_array)\n",
    "\n",
    "hash_array, time_array = create_pow_blockchain(num_blocks, difficulty, blockchain_pow, previous_block, nonce_length)"
   ]
  },
  {
   "cell_type": "markdown",
   "metadata": {},
   "source": [
    "**TEST YOUR QUESTION 4 CODE HERE**\n",
    "\n",
    "Run the block of code below"
   ]
  },
  {
   "cell_type": "code",
   "execution_count": 108,
   "metadata": {},
   "outputs": [
    {
     "name": "stdout",
     "output_type": "stream",
     "text": [
      "PASSED!!! Move on to the next Part\n"
     ]
    }
   ],
   "source": [
    "def test_question_4(blockchain_pow, num_blocks):\n",
    "    correct = True\n",
    "    bound = generate_difficulty_bound(difficulty)\n",
    "    if len(blockchain_pow) != num_blocks + 1:\n",
    "        correct = False\n",
    "    for i in range(len(blockchain_pow) - 1):\n",
    "        if blockchain_pow[i + 1].previous_hash != blockchain_pow[i].hash:\n",
    "            correct = False\n",
    "            break\n",
    "        if int(blockchain_pow[i + 1].hash, 16) > bound:\n",
    "            correct = False\n",
    "            break\n",
    "    print_statement = \"PASSED!!! Move on to the next Part\" if correct else \"FAILED!!! Try Again :(\"\n",
    "    print(print_statement)\n",
    "            \n",
    "test_question_4(blockchain_pow, num_blocks)"
   ]
  },
  {
   "cell_type": "markdown",
   "metadata": {},
   "source": [
    "Once you have passed the above test case, you can do things like play around with the difficulties and nonce lengths and seeing that happens "
   ]
  },
  {
   "cell_type": "markdown",
   "metadata": {},
   "source": [
    "# Note: The sections below are optional but super cool!"
   ]
  },
  {
   "cell_type": "markdown",
   "metadata": {},
   "source": [
    "# Distributed Network + Compute Power Simulation"
   ]
  },
  {
   "cell_type": "markdown",
   "metadata": {},
   "source": [
    "In this section, instead of simulating a single node that carries out all the proof of work calculations, we will create a bunch of different nodes that will all compete to find different blocks. These nodes will all have different compute powers that we will be able to specify. Below we will define the MinerNodeNaive class which has an init function to create an instance, as well as a try_hash function that allows it to try a hash and see if it works. "
   ]
  },
  {
   "cell_type": "code",
   "execution_count": 121,
   "metadata": {},
   "outputs": [],
   "source": [
    "#Naive miner class that races with other miners to see who can get a certain number of blocks first \n",
    "class MinerNodeNaive: \n",
    "    def __init__(self, name, compute):\n",
    "        self.name = name \n",
    "        self.compute = compute\n",
    "    \n",
    "    def try_hash(self, diff_value, chain):\n",
    "        last_block = chain[-1]\n",
    "        difficulty = generate_difficulty_bound(diff_value)\n",
    "        date_now = date.datetime.now()\n",
    "        this_index = last_block.index + 1\n",
    "        this_timestamp = date_now\n",
    "        this_data = \"Hey! I'm block \" + str(this_index)\n",
    "        this_hash = last_block.hash\n",
    "        new_block = Block(this_index, this_timestamp, this_data, this_hash)\n",
    "        if int(new_block.hash, 16) < difficulty:\n",
    "            chain.append(new_block)\n",
    "            # Tell everyone about it!\n",
    "            print(\"Block #{} has been added to the blockchain!\".format(new_block.index))\n",
    "            print(\"Block found by: {}\".format(self.name))\n",
    "            print(\"Hash: {}\\n\".format(new_block.hash))\n",
    "        "
   ]
  },
  {
   "cell_type": "markdown",
   "metadata": {},
   "source": [
    "**Question #5: Describe the Following Cells**\n",
    "\n",
    "In the next 4 cells I try to simulate a bunch of different miners with different compute powers. However this isn't completely indicative of how a real system works, and is limited by what I had to work with. Read through the code, and run all of the cells and explain what is happening in a paragrpah. Also explain how this is different from real world vanilla proof of work systems and how this simulation isn't completely accurate of what's actually happening while nodes race to find the next block. There is a cell at the bottom where you can enter your description.  "
   ]
  },
  {
   "cell_type": "code",
   "execution_count": 122,
   "metadata": {},
   "outputs": [],
   "source": [
    "#Initialize multiple miners on the network \n",
    "berkeley_Miner = MinerNodeNaive(\"Berkeley Miner\", 10)\n",
    "stanford_Miner = MinerNodeNaive(\"Stanford Miner\", 5)\n",
    "MIT_Miner = MinerNodeNaive(\"MIT Miner\", 2)\n",
    "UCLA_Miner = MinerNodeNaive(\"UCLA Miner\", 1)\n",
    "\n",
    "miner_array = [berkeley_Miner, stanford_Miner, MIT_Miner, UCLA_Miner]"
   ]
  },
  {
   "cell_type": "code",
   "execution_count": 123,
   "metadata": {},
   "outputs": [],
   "source": [
    "def create_compute_simulation(miner_array):\n",
    "    compute_array = []\n",
    "    for miner in miner_array:\n",
    "        for i in range(miner.compute):\n",
    "            compute_array.append(miner.name)\n",
    "    return(compute_array)\n",
    "\n",
    "compute_simulation_array = create_compute_simulation(miner_array)\n",
    "rand.shuffle(compute_simulation_array)"
   ]
  },
  {
   "cell_type": "code",
   "execution_count": 124,
   "metadata": {},
   "outputs": [],
   "source": [
    "chain_length = 20\n",
    "blockchain_distributed = [create_genesis_block()]\n",
    "genesis_block_dist = blockchain_distributed[0]\n",
    "chain_difficulty = [rand.randint(2,4) for i in range(chain_length)]"
   ]
  },
  {
   "cell_type": "code",
   "execution_count": 125,
   "metadata": {},
   "outputs": [
    {
     "ename": "KeyboardInterrupt",
     "evalue": "",
     "output_type": "error",
     "traceback": [
      "\u001b[1;31m---------------------------------------------------------------------------\u001b[0m",
      "\u001b[1;31mKeyboardInterrupt\u001b[0m                         Traceback (most recent call last)",
      "\u001b[1;32m<ipython-input-125-3458d7ca554f>\u001b[0m in \u001b[0;36m<module>\u001b[1;34m\u001b[0m\n\u001b[0;32m      6\u001b[0m             \u001b[1;32mif\u001b[0m \u001b[0mnext_miner_str\u001b[0m \u001b[1;33m==\u001b[0m \u001b[0mminer\u001b[0m\u001b[1;33m.\u001b[0m\u001b[0mname\u001b[0m\u001b[1;33m:\u001b[0m\u001b[1;33m\u001b[0m\u001b[1;33m\u001b[0m\u001b[0m\n\u001b[0;32m      7\u001b[0m                 \u001b[0mnext_miner\u001b[0m \u001b[1;33m=\u001b[0m \u001b[0mminer\u001b[0m\u001b[1;33m\u001b[0m\u001b[1;33m\u001b[0m\u001b[0m\n\u001b[1;32m----> 8\u001b[1;33m         \u001b[0mnext_miner\u001b[0m\u001b[1;33m.\u001b[0m\u001b[0mtry_hash\u001b[0m\u001b[1;33m(\u001b[0m\u001b[0mchain_difficulty\u001b[0m\u001b[1;33m[\u001b[0m\u001b[0mi\u001b[0m\u001b[1;33m]\u001b[0m\u001b[1;33m,\u001b[0m \u001b[0mblockchain_distributed\u001b[0m\u001b[1;33m)\u001b[0m\u001b[1;33m\u001b[0m\u001b[1;33m\u001b[0m\u001b[0m\n\u001b[0m\u001b[0;32m      9\u001b[0m \u001b[1;33m\u001b[0m\u001b[0m\n",
      "\u001b[1;32m<ipython-input-121-695104e94fdd>\u001b[0m in \u001b[0;36mtry_hash\u001b[1;34m(self, diff_value, chain)\u001b[0m\n\u001b[0;32m      7\u001b[0m     \u001b[1;32mdef\u001b[0m \u001b[0mtry_hash\u001b[0m\u001b[1;33m(\u001b[0m\u001b[0mself\u001b[0m\u001b[1;33m,\u001b[0m \u001b[0mdiff_value\u001b[0m\u001b[1;33m,\u001b[0m \u001b[0mchain\u001b[0m\u001b[1;33m)\u001b[0m\u001b[1;33m:\u001b[0m\u001b[1;33m\u001b[0m\u001b[1;33m\u001b[0m\u001b[0m\n\u001b[0;32m      8\u001b[0m         \u001b[0mlast_block\u001b[0m \u001b[1;33m=\u001b[0m \u001b[0mchain\u001b[0m\u001b[1;33m[\u001b[0m\u001b[1;33m-\u001b[0m\u001b[1;36m1\u001b[0m\u001b[1;33m]\u001b[0m\u001b[1;33m\u001b[0m\u001b[1;33m\u001b[0m\u001b[0m\n\u001b[1;32m----> 9\u001b[1;33m         \u001b[0mdifficulty\u001b[0m \u001b[1;33m=\u001b[0m \u001b[0mgenerate_difficulty_bound\u001b[0m\u001b[1;33m(\u001b[0m\u001b[0mdiff_value\u001b[0m\u001b[1;33m)\u001b[0m\u001b[1;33m\u001b[0m\u001b[1;33m\u001b[0m\u001b[0m\n\u001b[0m\u001b[0;32m     10\u001b[0m         \u001b[0mdate_now\u001b[0m \u001b[1;33m=\u001b[0m \u001b[0mdate\u001b[0m\u001b[1;33m.\u001b[0m\u001b[0mdatetime\u001b[0m\u001b[1;33m.\u001b[0m\u001b[0mnow\u001b[0m\u001b[1;33m(\u001b[0m\u001b[1;33m)\u001b[0m\u001b[1;33m\u001b[0m\u001b[1;33m\u001b[0m\u001b[0m\n\u001b[0;32m     11\u001b[0m         \u001b[0mthis_index\u001b[0m \u001b[1;33m=\u001b[0m \u001b[0mlast_block\u001b[0m\u001b[1;33m.\u001b[0m\u001b[0mindex\u001b[0m \u001b[1;33m+\u001b[0m \u001b[1;36m1\u001b[0m\u001b[1;33m\u001b[0m\u001b[1;33m\u001b[0m\u001b[0m\n",
      "\u001b[1;32m<ipython-input-106-dc7ff7afaa3d>\u001b[0m in \u001b[0;36mgenerate_difficulty_bound\u001b[1;34m(difficulty)\u001b[0m\n\u001b[0;32m     11\u001b[0m         \u001b[0mdiff_str\u001b[0m \u001b[1;33m+=\u001b[0m \u001b[1;34m'0'\u001b[0m\u001b[1;33m\u001b[0m\u001b[1;33m\u001b[0m\u001b[0m\n\u001b[0;32m     12\u001b[0m     \u001b[1;32mfor\u001b[0m \u001b[0mi\u001b[0m \u001b[1;32min\u001b[0m \u001b[0mrange\u001b[0m\u001b[1;33m(\u001b[0m\u001b[1;36m64\u001b[0m \u001b[1;33m-\u001b[0m \u001b[0mdifficulty\u001b[0m\u001b[1;33m)\u001b[0m\u001b[1;33m:\u001b[0m\u001b[1;33m\u001b[0m\u001b[1;33m\u001b[0m\u001b[0m\n\u001b[1;32m---> 13\u001b[1;33m         \u001b[0mdiff_str\u001b[0m \u001b[1;33m+=\u001b[0m \u001b[1;34m'F'\u001b[0m\u001b[1;33m\u001b[0m\u001b[1;33m\u001b[0m\u001b[0m\n\u001b[0m\u001b[0;32m     14\u001b[0m     \u001b[0mdiff_str\u001b[0m \u001b[1;33m=\u001b[0m \u001b[1;34m\"0x\"\u001b[0m \u001b[1;33m+\u001b[0m \u001b[0mdiff_str\u001b[0m  \u001b[1;31m# \"0x\" needs to be added at the front to specify that it is a hex representation\u001b[0m\u001b[1;33m\u001b[0m\u001b[1;33m\u001b[0m\u001b[0m\n\u001b[0;32m     15\u001b[0m     \u001b[1;32mreturn\u001b[0m\u001b[1;33m(\u001b[0m\u001b[0mint\u001b[0m\u001b[1;33m(\u001b[0m\u001b[0mdiff_str\u001b[0m\u001b[1;33m,\u001b[0m \u001b[1;36m16\u001b[0m\u001b[1;33m)\u001b[0m\u001b[1;33m)\u001b[0m  \u001b[1;31m# Specifies that we want to create an integer of base 16 (as opposed to the default base 10)\u001b[0m\u001b[1;33m\u001b[0m\u001b[1;33m\u001b[0m\u001b[0m\n",
      "\u001b[1;31mKeyboardInterrupt\u001b[0m: "
     ]
    }
   ],
   "source": [
    "for i in range(len(chain_difficulty)): \n",
    "    while len(blockchain_distributed) < i + 2:\n",
    "        next_miner_str = rand.sample(compute_simulation_array, 1)[0] \n",
    "        next_miner = berkeley_Miner #random default (go bears)\n",
    "        for miner in miner_array:\n",
    "            if next_miner_str == miner.name:\n",
    "                next_miner = miner\n",
    "        next_miner.try_hash(chain_difficulty[i], blockchain_distributed)\n",
    "        "
   ]
  },
  {
   "cell_type": "markdown",
   "metadata": {},
   "source": [
    "**Question 5 Description Here**\n",
    "\n",
    "- Description: **USe a random miner for new try of block creation. There is no parallel computing.**"
   ]
  },
  {
   "cell_type": "markdown",
   "metadata": {
    "collapsed": true
   },
   "source": [
    "# Blockchain Data Analytics"
   ]
  },
  {
   "cell_type": "markdown",
   "metadata": {
    "collapsed": true
   },
   "source": [
    "Here we will use data analytics to analyze the number of hashes we need to try before we find a valid hash, given a difficulty level. Look through the code briefly (in depth is not necessary), run all of the cells, and answer the question at the bottom. (difficulty level 3 takes a bit of time so dont be alarmed if this next cell takes a bit of time to run). "
   ]
  },
  {
   "cell_type": "code",
   "execution_count": 126,
   "metadata": {},
   "outputs": [
    {
     "name": "stdout",
     "output_type": "stream",
     "text": [
      "Difficulty Level: 1 complete\n",
      "Difficulty Level: 2 complete\n",
      "Difficulty Level: 3 complete\n",
      "Difficulty Level: 4 complete\n"
     ]
    }
   ],
   "source": [
    "blockchain = [create_genesis_block()]\n",
    "previous_block = blockchain[0]\n",
    "num_blocks = 10\n",
    "\n",
    "#3 different types of difficulty to analyze\n",
    "difficulty_0 = 1\n",
    "difficulty_1 = 2\n",
    "difficulty_2 = 3\n",
    "difficulty_3 = 4\n",
    "\n",
    "nonce_length = 20\n",
    "\n",
    "hash_array_0, time_array_0 = create_pow_blockchain(num_blocks, difficulty_0, blockchain, previous_block, nonce_length, 0)\n",
    "print(\"Difficulty Level: {} complete\".format(difficulty_0))\n",
    "hash_array_1, time_array_1 = create_pow_blockchain(num_blocks, difficulty_1, blockchain, previous_block, nonce_length, 0)\n",
    "print(\"Difficulty Level: {} complete\".format(difficulty_1))\n",
    "hash_array_2, time_array_2 = create_pow_blockchain(num_blocks, difficulty_2, blockchain, previous_block, nonce_length, 0)\n",
    "print(\"Difficulty Level: {} complete\".format(difficulty_2))\n",
    "hash_array_3, time_array_3 = create_pow_blockchain(num_blocks, difficulty_3, blockchain, previous_block, nonce_length, 0)\n",
    "print(\"Difficulty Level: {} complete\".format(difficulty_3))"
   ]
  },
  {
   "cell_type": "code",
   "execution_count": 127,
   "metadata": {},
   "outputs": [],
   "source": [
    "mean_arr_hash = [np.mean(hash_array_0), np.mean(hash_array_1), np.mean(hash_array_2), np.mean(hash_array_3)]\n",
    "mean_arr_time = [np.mean(time_array_0), np.mean(time_array_1), np.mean(time_array_2), np.mean(time_array_3)]"
   ]
  },
  {
   "cell_type": "code",
   "execution_count": 128,
   "metadata": {},
   "outputs": [
    {
     "data": {
      "image/png": "[encoded data removed]",
      "text/plain": [
       "<Figure size 432x288 with 1 Axes>"
      ]
     },
     "metadata": {
      "needs_background": "light"
     },
     "output_type": "display_data"
    }
   ],
   "source": [
    "plt.plot(mean_arr_hash)\n",
    "plt.show()"
   ]
  },
  {
   "cell_type": "code",
   "execution_count": 129,
   "metadata": {},
   "outputs": [
    {
     "data": {
      "image/png": "[encoded data removed]",
      "text/plain": [
       "<Figure size 432x288 with 1 Axes>"
      ]
     },
     "metadata": {
      "needs_background": "light"
     },
     "output_type": "display_data"
    }
   ],
   "source": [
    "plt.plot(mean_arr_time)\n",
    "plt.show()"
   ]
  },
  {
   "cell_type": "code",
   "execution_count": 131,
   "metadata": {},
   "outputs": [
    {
     "name": "stdout",
     "output_type": "stream",
     "text": [
      "Factor of difficulty increase from 1 to 2: 12.247357293868921\n",
      "Factor of difficulty increase from 2 to 3: 33.04773001898843\n",
      "Factor of difficulty increase from 3 to 4: 20.302338437483947\n"
     ]
    }
   ],
   "source": [
    "diff_factor_1 = np.mean(hash_array_1)/np.mean(hash_array_0)\n",
    "diff_factor_2 = np.mean(hash_array_2)/np.mean(hash_array_1)\n",
    "diff_factor_3 = np.mean(hash_array_3)/np.mean(hash_array_2)\n",
    "print(\"Factor of difficulty increase from 1 to 2: {}\".format(diff_factor_1))\n",
    "print(\"Factor of difficulty increase from 2 to 3: {}\".format(diff_factor_2))\n",
    "print(\"Factor of difficulty increase from 3 to 4: {}\".format(diff_factor_3))"
   ]
  },
  {
   "cell_type": "markdown",
   "metadata": {},
   "source": [
    "**Question 6: This one is simple**\n",
    "\n",
    "Look at the factor of difficulty increase from each level to the subsequent level, printed from the cell above.\n",
    "\n",
    "What whould the factor of difficulty increase be for each level: **Your answer Here**"
   ]
  },
  {
   "cell_type": "markdown",
   "metadata": {},
   "source": [
    "**Check Off**\n",
    "\n",
    "If you have filled out all the skeleton code and put down your answers for the questions, let any of the instructor know and we will check you off!\n",
    "\n",
    "If you cannot finish it this class, you have until next week's class to finish check off and earn points.\n"
   ]
  }
 ],
 "metadata": {
  "kernelspec": {
   "display_name": "Python 3",
   "language": "python",
   "name": "python3"
  },
  "language_info": {
   "codemirror_mode": {
    "name": "ipython",
    "version": 3
   },
   "file_extension": ".py",
   "mimetype": "text/x-python",
   "name": "python",
   "nbconvert_exporter": "python",
   "pygments_lexer": "ipython3",
   "version": "3.7.3"
  }
 },
 "nbformat": 4,
 "nbformat_minor": 2
}
